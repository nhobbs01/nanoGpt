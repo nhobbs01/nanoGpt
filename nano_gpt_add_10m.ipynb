{
  "nbformat": 4,
  "nbformat_minor": 0,
  "metadata": {
    "colab": {
      "provenance": [],
      "gpuType": "T4",
      "authorship_tag": "ABX9TyP2378D/k5vKPF2ABRmrWMT",
      "include_colab_link": true
    },
    "kernelspec": {
      "name": "python3",
      "display_name": "Python 3"
    },
    "language_info": {
      "name": "python"
    },
    "accelerator": "GPU"
  },
  "cells": [
    {
      "cell_type": "markdown",
      "metadata": {
        "id": "view-in-github",
        "colab_type": "text"
      },
      "source": [
        "<a href=\"https://colab.research.google.com/github/nhobbs01/nanoGpt/blob/main/nano_gpt_add_10m.ipynb\" target=\"_parent\"><img src=\"https://colab.research.google.com/assets/colab-badge.svg\" alt=\"Open In Colab\"/></a>"
      ]
    },
    {
      "cell_type": "code",
      "execution_count": 123,
      "metadata": {
        "id": "pH74o5srISyo"
      },
      "outputs": [],
      "source": [
        "import torch\n",
        "import torch.nn as nn\n",
        "from torch.nn import functional as F\n",
        "\n",
        "# hyperparameters\n",
        "device = 'cuda' if torch.cuda.is_available() else 'cpu'\n",
        "dropout=0.2\n",
        "# -----------------\n",
        "\n",
        "# ---------------- MODELS\n",
        "class MultiHeadAttention(nn.Module):\n",
        "\n",
        "    def __init__(self, n_head, head_size, block_size, n_embed):\n",
        "        super().__init__()\n",
        "        self.proj = nn.Linear(n_embed, n_embed)\n",
        "        self.key = nn.Linear(n_embed, n_embed, bias=False)\n",
        "        self.query = nn.Linear(n_embed, n_embed, bias=False)\n",
        "        self.value = nn.Linear(n_embed, n_embed, bias=False)\n",
        "        self.register_buffer('tril', torch.tril(torch.ones(block_size, block_size)))\n",
        "        self.head_size = head_size\n",
        "        self.n_head = n_head\n",
        "        self.drop = nn.Dropout(dropout)\n",
        "\n",
        "\n",
        "    def forward(self, x):\n",
        "        B, T, C = x.shape\n",
        "        k = self.key(x)\n",
        "        q = self.query(x)\n",
        "        v = self.value(x)\n",
        "\n",
        "        k = k.view(B, T,self.n_head, C//self.n_head).transpose(1, 2)\n",
        "        q = q.view(B, T,self.n_head, C//self.n_head).transpose(1, 2)\n",
        "        v = v.view(B, T, self.n_head, C//self.n_head).transpose(1, 2)\n",
        "        # q @ k.T => (B, n_head,T, head_size) @ (B, n_head, T, head_size) => (B, n_head, T, T)\n",
        "        wei = (q@ k.transpose(-2, -1))\n",
        "        wei *= self.head_size**-0.5\n",
        "        wei = wei.masked_fill(self.tril[:T,:T] ==0, float('-inf'))\n",
        "        wei = F.softmax(wei, dim=-1)\n",
        "        out = wei @ v\n",
        "        out = out.transpose(1,2).contiguous().view(B, T, C)\n",
        "        out = self.drop(self.proj(out))\n",
        "        return out\n",
        "\n",
        "class FeedForward(nn.Module):\n",
        "\n",
        "    def __init__(self, n_embed):\n",
        "        super().__init__()\n",
        "        self.net = nn.Sequential(\n",
        "            nn.Linear(n_embed, 4*n_embed),\n",
        "            nn.ReLU(),\n",
        "            nn.Linear(4*n_embed, n_embed),\n",
        "            nn.Dropout(dropout)\n",
        "        )\n",
        "    def forward(self, x):\n",
        "        return self.net(x)\n",
        "\n",
        "class Block(nn.Module):\n",
        "    def __init__(self, n_embed, n_head, block_size):\n",
        "        super().__init__()\n",
        "        head_size = n_embed // n_head\n",
        "        self.sa = MultiHeadAttention(n_head, head_size, block_size ,n_embed=n_embed)\n",
        "        self.ln1 = nn.LayerNorm(n_embed) # Normalize the last dim (C) which is n_embed\n",
        "        self.ffwd = FeedForward(n_embed)\n",
        "        self.ln2 = nn.LayerNorm(n_embed)\n",
        "\n",
        "    def forward(self, x):\n",
        "        x = self.sa(self.ln1(x))+ x\n",
        "        x = self.ffwd(self.ln2(x)) + x\n",
        "        return x\n",
        "\n",
        "class TransformerModel(nn.Module):\n",
        "    def __init__(self, vocab_size, block_size, n_embed, n_head, n_layer):\n",
        "        super().__init__()\n",
        "        self.token_embedding_table = nn.Embedding(vocab_size, n_embed)\n",
        "        self.position_embedding_table = nn.Embedding(block_size, n_embed)\n",
        "        self.blocks = nn.Sequential(*[Block(n_embed, n_head, block_size) for _ in range(n_layer)])\n",
        "        self.lm_head = nn.Linear(n_embed, vocab_size)\n",
        "        self.block_size = block_size\n",
        "\n",
        "\n",
        "    def forward(self, idx, targets=None):\n",
        "        B, T = idx.shape\n",
        "\n",
        "        token_emb = self.token_embedding_table(idx)  # B, T, C  (C is n_embed)\n",
        "        position_emb = self.position_embedding_table(torch.arange(T, device=device)) # T, C (create an embedding for each time step)\n",
        "        x = token_emb + position_emb # (B, T, C)\n",
        "        x = self.blocks(x)\n",
        "        logits = self.lm_head(x) # B, T, vocab_size\n",
        "\n",
        "        if targets is None:\n",
        "            loss = None\n",
        "        else:\n",
        "            # Need to reshape for cross_entropy\n",
        "            B,T,C = logits.shape\n",
        "            logits = logits.view(B*T,C) # 32 65\n",
        "            targets = targets.view(B*T) # 32\n",
        "            loss = F.cross_entropy(logits, targets)\n",
        "        return logits, loss\n",
        "\n",
        "    def generate(self, idx, max_tokens):\n",
        "\n",
        "        # idx is (B, T) array of current context\n",
        "        for _ in range(max_tokens):\n",
        "            # get the predictions\n",
        "            logits, loss= self(idx[:,-self.block_size:])\n",
        "            # Focus on the last time dimension\n",
        "            logits = logits[:,-1,:]\n",
        "            probs = F.softmax(logits, dim=-1)\n",
        "            idx_next = torch.multinomial(probs, num_samples=1)\n",
        "            if(idx_next.item() == 10):\n",
        "                break\n",
        "            idx = torch.cat((idx, idx_next), dim=1)\n",
        "        return idx"
      ]
    },
    {
      "cell_type": "code",
      "source": [
        "import torch\n",
        "import torch.nn as nn\n",
        "from torch.nn import functional as F\n",
        "from datetime import datetime\n",
        "\n",
        "# hyperparameters\n",
        "batch_size = 64 # number of independent sequences processed in parallel\n",
        "block_size =  256 # context size\n",
        "max_iters = 5000\n",
        "eval_interval = 500\n",
        "learning_rate = 1e-3\n",
        "device = 'cuda' if torch.cuda.is_available() else 'cpu'\n",
        "eval_iters = 200\n",
        "\n",
        "n_embed = 384\n",
        "n_head = 6\n",
        "n_layer = 6\n",
        "# -----------------\n",
        "\n",
        "chars = ['0','1','2','3','4','5','6','7','8','9','$','+','='] # All the chars needed for addition\n",
        "vocab_size = len(chars)\n",
        "# tokenize chars\n",
        "stoi = {x:i for i,x in enumerate(chars)}\n",
        "itos = {i:x for i,x in enumerate(chars)}\n",
        "encode = lambda s: [stoi[c] for c in s]\n",
        "decode = lambda xs: \"\".join([itos[x] for x in xs])\n",
        "\n",
        "# Different formats for the training data\n",
        "\n",
        "def getPlainFormat(data):\n",
        "    return\"\\n\".join([f'{a}+{b}={str(c)}' for [a, b], c in zip(data.tolist(), data.sum(1).tolist())])\n",
        "\n",
        "\n",
        "def getReverseFormat(data):\n",
        "    return\"\".join([f'${a}+{b}={str(c)[::-1]}$' for [a, b], c in zip(data.tolist(), data.sum(1).tolist())])\n",
        "\n",
        "#----------------------------------------\n",
        "\n",
        "# Generate batches on the fly\n",
        "def getRandomData(n=2000):\n",
        "    data = torch.cat([torch.randint(10, (int(n*0.2), 2)), torch.randint(100, (int(n*0.2), 2)), torch.randint(1000, (int(n*0.6), 2))])\n",
        "    return torch.tensor(encode(getReverseFormat(data)), dtype=torch.long)\n",
        "\n",
        "def getBatch():\n",
        "    data = getRandomData()\n",
        "    ix = torch.randint(len(data)- block_size, (batch_size,)) ## len(data) - block_size so we don't index out of range\n",
        "    x = torch.stack([data[i:block_size+i] for i in ix])\n",
        "    y = torch.stack([data[i+1:block_size+i+1] for i in ix])\n",
        "    x,y = x.to(device), y.to(device)\n",
        "    return x,y\n",
        "\n",
        "@torch.no_grad\n",
        "def estimate_loss():\n",
        "    out = {}\n",
        "    model.eval()\n",
        "    for split in ['train','val']:\n",
        "        losses = torch.zeros(eval_iters)\n",
        "        for k in range(eval_iters):\n",
        "            x, y = getBatch()\n",
        "            _, loss = model(x, y)\n",
        "            losses[k] = loss.item()\n",
        "        out[split] = losses.mean() # Average the losses to make loss less noisy\n",
        "    model.train()\n",
        "    return out\n",
        "\n",
        "def printSampleFromModel(context, max_tokens):\n",
        "   print(decode(model.generate(idx=context, max_tokens=max_tokens)[0].tolist()))\n",
        "\n",
        "m = TransformerModel(vocab_size=vocab_size, block_size=block_size, n_embed=n_embed,  n_head=n_head, n_layer=n_layer)\n",
        "model = m.to(device)"
      ],
      "metadata": {
        "id": "x3PmCYTDIdEr"
      },
      "execution_count": 124,
      "outputs": []
    },
    {
      "cell_type": "code",
      "source": [
        "total_params = sum(p.numel() for p in model.parameters())\n",
        "print(total_params)"
      ],
      "metadata": {
        "colab": {
          "base_uri": "https://localhost:8080/"
        },
        "id": "QGlstKfoIpuH",
        "outputId": "1b562f78-3c2b-4421-9850-911f44f736d2"
      },
      "execution_count": 125,
      "outputs": [
        {
          "output_type": "stream",
          "name": "stdout",
          "text": [
            "10748173\n"
          ]
        }
      ]
    },
    {
      "cell_type": "code",
      "source": [
        "from google.colab import drive\n",
        "# Mount Google Drive\n",
        "drive.mount('/content/drive')\n",
        "!ls \"/content/drive/My Drive/ml\""
      ],
      "metadata": {
        "colab": {
          "base_uri": "https://localhost:8080/"
        },
        "id": "0_7s-jprJgma",
        "outputId": "15ba7e02-1ab1-4527-97ac-2faefbcc6e1a"
      },
      "execution_count": 10,
      "outputs": [
        {
          "output_type": "stream",
          "name": "stdout",
          "text": [
            "Mounted at /content/drive\n",
            "data  models\n"
          ]
        }
      ]
    },
    {
      "cell_type": "code",
      "source": [
        "# Create a pytorch optimizer\n",
        "optimizer = torch.optim.AdamW(model.parameters(), lr=learning_rate)\n",
        "for steps in range(max_iters):\n",
        "\n",
        "    if(steps % eval_interval == 0):\n",
        "        losses = estimate_loss()\n",
        "        print(f'step {steps}, train loss: {losses[\"train\"]:.4f}, val loss: {losses[\"val\"]:.4f}')\n",
        "\n",
        "    # sample data\n",
        "    xb, yb = getBatch()\n",
        "\n",
        "    # Evaluate the loss\n",
        "    logits, loss = model(xb, yb)\n",
        "    optimizer.zero_grad(set_to_none=True)\n",
        "    loss.backward()\n",
        "    optimizer.step()\n",
        "\n",
        "now = datetime.today().strftime('%Y-%m-%d-%H-%M')\n",
        "torch.save(model, f'/content/drive/My Drive/ml/models/model_add_10m_{now}.pth')\n"
      ],
      "metadata": {
        "colab": {
          "base_uri": "https://localhost:8080/"
        },
        "id": "hdDkg7T6JKl6",
        "outputId": "c3b05b28-9193-4beb-d10a-e738f113a623"
      },
      "execution_count": null,
      "outputs": [
        {
          "output_type": "stream",
          "name": "stdout",
          "text": [
            "step 0, train loss: 2.9011, val loss: 2.9019\n"
          ]
        }
      ]
    },
    {
      "cell_type": "code",
      "source": [
        "problem = '110+322='\n",
        "context = torch.tensor(encode(problem), dtype=torch.long, device=device).view(1,-1)\n",
        "print(problem)\n",
        "print(decode(model.generate(idx=context, max_tokens=3)[0][len(context[0]): ].tolist()[::-1]))"
      ],
      "metadata": {
        "colab": {
          "base_uri": "https://localhost:8080/"
        },
        "id": "W718XrCpJ5MC",
        "outputId": "5afce16f-ee2b-48a5-ab45-2ab4462668a9"
      },
      "execution_count": 122,
      "outputs": [
        {
          "output_type": "stream",
          "name": "stdout",
          "text": [
            "110+322=\n",
            "442\n"
          ]
        }
      ]
    },
    {
      "cell_type": "code",
      "source": [
        "model.generate(idx=context, max_tokens=3)[0][len(context[0]):].tolist()[::-1]"
      ],
      "metadata": {
        "colab": {
          "base_uri": "https://localhost:8080/"
        },
        "id": "Ixaw2OSssFud",
        "outputId": "8964627d-c22e-4f3e-d74d-46f655f69cdc"
      },
      "execution_count": 113,
      "outputs": [
        {
          "output_type": "execute_result",
          "data": {
            "text/plain": [
              "[4, 2, 6]"
            ]
          },
          "metadata": {},
          "execution_count": 113
        }
      ]
    },
    {
      "cell_type": "code",
      "source": [],
      "metadata": {
        "id": "BtmcBk1lsadx"
      },
      "execution_count": null,
      "outputs": []
    }
  ]
}