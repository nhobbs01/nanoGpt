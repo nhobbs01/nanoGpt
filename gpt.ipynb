{
 "cells": [
  {
   "cell_type": "code",
   "execution_count": 1,
   "id": "12106876-e3fe-4a15-b70a-7b4e3221af36",
   "metadata": {},
   "outputs": [],
   "source": [
    "import torch"
   ]
  },
  {
   "cell_type": "code",
   "execution_count": 2,
   "id": "c82e07ef-d533-47d7-b161-d38bb8bbe802",
   "metadata": {},
   "outputs": [],
   "source": [
    "#https://raw.githubusercontent.com/karpathy/char-rnn/master/data/tinyshakespeare/input.txt\n",
    "# read it in to inspect it\n",
    "with open('input.txt', 'r', encoding='utf-8') as f:\n",
    "    text = f.read()"
   ]
  },
  {
   "cell_type": "code",
   "execution_count": 3,
   "id": "35cd4ee6-0931-4e04-be0f-16d15ea3bf8e",
   "metadata": {},
   "outputs": [
    {
     "name": "stdout",
     "output_type": "stream",
     "text": [
      "length of dataset in characters 1115394\n"
     ]
    }
   ],
   "source": [
    "print(\"length of dataset in characters\", len(text))"
   ]
  },
  {
   "cell_type": "code",
   "execution_count": 4,
   "id": "7be4f4c7-e8d1-49bf-a604-eace97df1234",
   "metadata": {},
   "outputs": [
    {
     "name": "stdout",
     "output_type": "stream",
     "text": [
      "First Citizen:\n",
      "Before we proceed any further, hear me speak.\n",
      "\n",
      "All:\n",
      "Speak, speak.\n",
      "\n",
      "First Citizen:\n",
      "You are all resolved rather to die than to famish?\n",
      "\n",
      "All:\n",
      "Resolved. resolved.\n",
      "\n",
      "First Citizen:\n",
      "First, you know Caius Marcius is chief enemy to the people.\n",
      "\n",
      "All:\n",
      "We know't, we know't.\n",
      "\n",
      "First Citizen:\n",
      "Let us kill him, and we'll have corn at our own price.\n",
      "Is't a verdict?\n",
      "\n",
      "All:\n",
      "No more talking on't; let it be done: away, away!\n",
      "\n",
      "Second Citizen:\n",
      "One word, good citizens.\n",
      "\n",
      "First Citizen:\n",
      "We are accounted poor citizens, the patricians good.\n",
      "What authority surfeits on would relieve us: if they\n",
      "would yield us but the superfluity, while it were\n",
      "wholesome, we might guess they relieved us humanely;\n",
      "but they think we are too dear: the leanness that\n",
      "afflicts us, the object of our misery, is as an\n",
      "inventory to particularise their abundance; our\n",
      "sufferance is a gain to them Let us revenge this with\n",
      "our pikes, ere we become rakes: for the gods know I\n",
      "speak this in hunger for bread, not in thirst for revenge.\n",
      "\n",
      "\n"
     ]
    }
   ],
   "source": [
    "print(text[:1000])"
   ]
  },
  {
   "cell_type": "code",
   "execution_count": 97,
   "id": "80c51e0e-04f7-4461-b4e1-771e2917fb55",
   "metadata": {},
   "outputs": [
    {
     "name": "stdout",
     "output_type": "stream",
     "text": [
      "65\n",
      "['\\n', ' ', '!', '$', '&', \"'\", ',', '-', '.', '3', ':', ';', '?', 'A', 'B', 'C', 'D', 'E', 'F', 'G', 'H', 'I', 'J', 'K', 'L', 'M', 'N', 'O', 'P', 'Q', 'R', 'S', 'T', 'U', 'V', 'W', 'X', 'Y', 'Z', 'a', 'b', 'c', 'd', 'e', 'f', 'g', 'h', 'i', 'j', 'k', 'l', 'm', 'n', 'o', 'p', 'q', 'r', 's', 't', 'u', 'v', 'w', 'x', 'y', 'z']\n"
     ]
    }
   ],
   "source": [
    "chars = sorted(list(set(text)))\n",
    "print(len(chars))\n",
    "print(chars)\n",
    "vocab_size = len(chars)"
   ]
  },
  {
   "cell_type": "code",
   "execution_count": 19,
   "id": "2f75123e-106e-452d-afde-e74dbc132477",
   "metadata": {},
   "outputs": [],
   "source": [
    "# tokenize chars\n",
    "stoi = {x:i for i,x in enumerate(chars)}\n",
    "itos = {i:x for i,x in enumerate(chars)}\n",
    "encode = lambda s: [stoi[c] for c in s]\n",
    "decode = lambda xs: \"\".join([itos[x] for x in xs])"
   ]
  },
  {
   "cell_type": "code",
   "execution_count": 21,
   "id": "820afbeb-395d-47aa-b170-08239e0ae99a",
   "metadata": {},
   "outputs": [
    {
     "name": "stdout",
     "output_type": "stream",
     "text": [
      "[46, 43, 50, 50, 53, 1, 61, 53, 56, 50, 42]\n"
     ]
    },
    {
     "data": {
      "text/plain": [
       "'hello'"
      ]
     },
     "execution_count": 21,
     "metadata": {},
     "output_type": "execute_result"
    }
   ],
   "source": [
    "print(encode('hello world'))\n",
    "decode(encode('hello'))"
   ]
  },
  {
   "cell_type": "code",
   "execution_count": 26,
   "id": "eaad246c-2940-439a-be29-3425ee1ede26",
   "metadata": {},
   "outputs": [
    {
     "name": "stdout",
     "output_type": "stream",
     "text": [
      "torch.Size([1115394])\n"
     ]
    },
    {
     "data": {
      "text/plain": [
       "tensor([18, 47, 56, 57, 58,  1, 15, 47, 58, 47, 64, 43, 52, 10,  0, 14, 43, 44,\n",
       "        53, 56, 43,  1, 61, 43,  1, 54, 56, 53, 41, 43, 43, 42,  1, 39, 52, 63,\n",
       "         1, 44, 59, 56, 58, 46, 43, 56,  6,  1, 46, 43, 39, 56,  1, 51, 43,  1,\n",
       "        57, 54, 43, 39, 49,  8,  0,  0, 13, 50, 50, 10,  0, 31, 54, 43, 39, 49,\n",
       "         6,  1, 57, 54, 43, 39, 49,  8,  0,  0, 18, 47, 56, 57, 58,  1, 15, 47,\n",
       "        58, 47, 64, 43, 52, 10,  0, 37, 53, 59])"
      ]
     },
     "execution_count": 26,
     "metadata": {},
     "output_type": "execute_result"
    }
   ],
   "source": [
    "data = torch.tensor(encode(text), dtype=torch.long)\n",
    "print(data.shape)\n",
    "data[:100]"
   ]
  },
  {
   "cell_type": "code",
   "execution_count": 33,
   "id": "58c410cb-d8e8-473a-8f1c-c24de7cd1c41",
   "metadata": {},
   "outputs": [
    {
     "name": "stdout",
     "output_type": "stream",
     "text": [
      "1115394\n",
      "torch.Size([1115394])\n"
     ]
    }
   ],
   "source": [
    "n=int(0.9*len(data))\n",
    "train_data=data[:n]\n",
    "val_data=data[n:]\n",
    "print(len(train_data) + len(val_data))\n",
    "print(data.shape)"
   ]
  },
  {
   "cell_type": "code",
   "execution_count": 35,
   "id": "a6b1e2e7-1891-40a8-a005-c18bfd4f212f",
   "metadata": {},
   "outputs": [
    {
     "data": {
      "text/plain": [
       "tensor([18, 47, 56, 57, 58,  1, 15, 47, 58])"
      ]
     },
     "execution_count": 35,
     "metadata": {},
     "output_type": "execute_result"
    }
   ],
   "source": [
    "block_size = 8\n",
    "train_data[:block_size + 1]"
   ]
  },
  {
   "cell_type": "code",
   "execution_count": 48,
   "id": "b1697e05-ab28-4a45-8fb4-d3f7a17f343b",
   "metadata": {},
   "outputs": [
    {
     "name": "stdout",
     "output_type": "stream",
     "text": [
      "Context tensor([18]) predicts 47\n",
      "Context tensor([18, 47]) predicts 56\n",
      "Context tensor([18, 47, 56]) predicts 57\n",
      "Context tensor([18, 47, 56, 57]) predicts 58\n",
      "Context tensor([18, 47, 56, 57, 58]) predicts 1\n",
      "Context tensor([18, 47, 56, 57, 58,  1]) predicts 15\n",
      "Context tensor([18, 47, 56, 57, 58,  1, 15]) predicts 47\n",
      "Context tensor([18, 47, 56, 57, 58,  1, 15, 47]) predicts 58\n"
     ]
    }
   ],
   "source": [
    "x = train_data[:block_size]\n",
    "y = train_data[1:block_size + 1]\n",
    "for i in range(block_size):\n",
    "    print('Context',x[:i+1] , 'predicts', y[i].item())\n"
   ]
  },
  {
   "cell_type": "code",
   "execution_count": 83,
   "id": "1200d89c-84bd-47b2-8247-b6c359c5681c",
   "metadata": {},
   "outputs": [],
   "source": [
    "# Add batch dimension\n",
    "torch.manual_seed(1337)\n",
    "batch_size = 4\n",
    "block_size = 8\n",
    "def getBatch(split):\n",
    "    data = train_data if split == 'train' else val_data\n",
    "    ix = torch.randint(len(data)- block_size, (batch_size,)) ## len(data) - block_size so we don't index out of range\n",
    "    x = torch.stack([data[i:block_size+i] for i in ix])\n",
    "    y = torch.stack([data[i+1:block_size+i+1] for i in ix])\n",
    "    return x,y    "
   ]
  },
  {
   "cell_type": "code",
   "execution_count": 90,
   "id": "331ae663-3d5e-4cc5-8c2b-f22655e86a01",
   "metadata": {},
   "outputs": [
    {
     "name": "stdout",
     "output_type": "stream",
     "text": [
      "inputs\n",
      "tensor([[52, 42,  8,  0,  0, 23, 21, 26],\n",
      "        [45, 53, 42, 57,  0, 23, 43, 43],\n",
      "        [52,  1, 61, 39, 57,  1, 51, 53],\n",
      "        [39, 49, 12,  1, 27,  1, 58, 56]])\n",
      "torch.Size([4, 8])\n",
      "labels\n",
      "tensor([[42,  8,  0,  0, 23, 21, 26, 19],\n",
      "        [53, 42, 57,  0, 23, 43, 43, 54],\n",
      "        [ 1, 61, 39, 57,  1, 51, 53, 56],\n",
      "        [49, 12,  1, 27,  1, 58, 56, 39]])\n",
      "torch.Size([4, 8])\n",
      "Context tensor([52]) predicts tensor(42)\n",
      "Context tensor([52, 42]) predicts tensor(8)\n",
      "Context tensor([52, 42,  8]) predicts tensor(0)\n",
      "Context tensor([52, 42,  8,  0]) predicts tensor(0)\n",
      "Context tensor([52, 42,  8,  0,  0]) predicts tensor(23)\n",
      "Context tensor([52, 42,  8,  0,  0, 23]) predicts tensor(21)\n",
      "Context tensor([52, 42,  8,  0,  0, 23, 21]) predicts tensor(26)\n",
      "Context tensor([52, 42,  8,  0,  0, 23, 21, 26]) predicts tensor(19)\n",
      "Context tensor([45]) predicts tensor(53)\n",
      "Context tensor([45, 53]) predicts tensor(42)\n",
      "Context tensor([45, 53, 42]) predicts tensor(57)\n",
      "Context tensor([45, 53, 42, 57]) predicts tensor(0)\n",
      "Context tensor([45, 53, 42, 57,  0]) predicts tensor(23)\n",
      "Context tensor([45, 53, 42, 57,  0, 23]) predicts tensor(43)\n",
      "Context tensor([45, 53, 42, 57,  0, 23, 43]) predicts tensor(43)\n",
      "Context tensor([45, 53, 42, 57,  0, 23, 43, 43]) predicts tensor(54)\n",
      "Context tensor([52]) predicts tensor(1)\n",
      "Context tensor([52,  1]) predicts tensor(61)\n",
      "Context tensor([52,  1, 61]) predicts tensor(39)\n",
      "Context tensor([52,  1, 61, 39]) predicts tensor(57)\n",
      "Context tensor([52,  1, 61, 39, 57]) predicts tensor(1)\n",
      "Context tensor([52,  1, 61, 39, 57,  1]) predicts tensor(51)\n",
      "Context tensor([52,  1, 61, 39, 57,  1, 51]) predicts tensor(53)\n",
      "Context tensor([52,  1, 61, 39, 57,  1, 51, 53]) predicts tensor(56)\n",
      "Context tensor([39]) predicts tensor(49)\n",
      "Context tensor([39, 49]) predicts tensor(12)\n",
      "Context tensor([39, 49, 12]) predicts tensor(1)\n",
      "Context tensor([39, 49, 12,  1]) predicts tensor(27)\n",
      "Context tensor([39, 49, 12,  1, 27]) predicts tensor(1)\n",
      "Context tensor([39, 49, 12,  1, 27,  1]) predicts tensor(58)\n",
      "Context tensor([39, 49, 12,  1, 27,  1, 58]) predicts tensor(56)\n",
      "Context tensor([39, 49, 12,  1, 27,  1, 58, 56]) predicts tensor(39)\n"
     ]
    }
   ],
   "source": [
    "xb,yb = getBatch('train')\n",
    "print('inputs')\n",
    "print(xb)\n",
    "print(xb.shape)\n",
    "print('labels')\n",
    "print(yb)\n",
    "print(yb.shape)\n",
    "\n",
    "# Spelled out\n",
    "for b in range(batch_size): # Batch dimension\n",
    "    for t in range(block_size):\n",
    "        print('Context',xb[b,:t+1],'predicts',yb[b, t])  "
   ]
  },
  {
   "cell_type": "code",
   "execution_count": 346,
   "id": "cc8036c0-b0b1-4e89-8b71-89f31ceaa0e7",
   "metadata": {},
   "outputs": [
    {
     "data": {
      "text/plain": [
       "torch.Size([32, 8])"
      ]
     },
     "execution_count": 346,
     "metadata": {},
     "output_type": "execute_result"
    }
   ],
   "source": [
    "xb.shape"
   ]
  },
  {
   "cell_type": "code",
   "execution_count": 345,
   "id": "5179b019-e55c-4cb0-95f0-83fd09e5caf6",
   "metadata": {},
   "outputs": [
    {
     "name": "stdout",
     "output_type": "stream",
     "text": [
      "tensor([[ 0, 24, 47, 51, 47, 58,  1, 43],\n",
      "        [39,  1, 45, 47, 39, 52, 58,  1],\n",
      "        [47, 52, 49,  1,  5, 58, 61, 47],\n",
      "        [45, 46, 58, 11,  0, 13, 52, 42],\n",
      "        [11,  0, 13, 52,  1, 47, 44,  1],\n",
      "        [ 6,  1, 61, 46, 39, 58,  1, 57],\n",
      "        [ 0,  0, 19, 24, 27, 33, 15, 17],\n",
      "        [52, 43,  1, 39,  1, 54, 43, 56],\n",
      "        [ 1, 52, 53, 58,  1, 44, 53, 56],\n",
      "        [ 1, 42, 39, 56, 43, 42,  1, 58],\n",
      "        [51, 63,  1, 53, 61, 52,  1, 50],\n",
      "        [ 1, 57, 39, 63,  1, 52, 53,  6],\n",
      "        [ 1, 54, 56, 53, 41, 50, 39, 47],\n",
      "        [54, 54, 53, 57, 43,  1, 39, 45],\n",
      "        [ 2,  1, 39,  1, 41, 53, 52, 42],\n",
      "        [39, 40, 40, 50, 43,  0, 15, 39],\n",
      "        [47, 56,  6,  1, 21,  1, 58, 46],\n",
      "        [39, 63,  1, 58, 46, 43, 47, 56],\n",
      "        [53, 44,  1, 58, 46, 43,  1, 61],\n",
      "        [ 1, 47, 52,  1, 51, 43, 52, 11],\n",
      "        [53, 58, 43,  2,  1, 39, 50, 50],\n",
      "        [42,  6,  1, 39, 52, 42,  1, 46],\n",
      "        [ 1, 63, 53, 59,  1, 51, 59, 57],\n",
      "        [ 1, 25, 13, 30, 19, 13, 30, 17],\n",
      "        [53, 51, 43, 53,  1, 58, 46, 39],\n",
      "        [46,  1, 39, 52, 63,  1, 58, 46],\n",
      "        [57, 57,  1, 54, 56, 53, 57, 54],\n",
      "        [59, 57, 49, 63,  1, 45, 56, 39],\n",
      "        [43, 50, 10,  0, 13, 52, 42,  1],\n",
      "        [63,  6,  1, 53, 44, 44, 47, 41],\n",
      "        [43,  1, 46, 43,  1, 47, 57, 11],\n",
      "        [53, 52, 53, 59, 52, 41, 47, 52]])\n"
     ]
    }
   ],
   "source": [
    "print(xb) # Input to model"
   ]
  },
  {
   "cell_type": "code",
   "execution_count": 92,
   "id": "2fb3258f-a0ac-4bb2-95c2-e112509b7feb",
   "metadata": {},
   "outputs": [],
   "source": [
    "# Start with simplest model (bigram model) Use previous char to predict next char (counts lookup table)"
   ]
  },
  {
   "cell_type": "code",
   "execution_count": 247,
   "id": "bf0ccb28-56cc-445d-b7ec-bf18c9ff9922",
   "metadata": {},
   "outputs": [
    {
     "name": "stdout",
     "output_type": "stream",
     "text": [
      "torch.Size([256, 65])\n",
      "tensor(4.8430, grad_fn=<NllLossBackward0>)\n",
      "initial loss should be 4.174387454986572\n"
     ]
    }
   ],
   "source": [
    "import torch\n",
    "import torch.nn as nn\n",
    "from torch.nn import functional as F\n",
    "torch.manual_seed(1337)\n",
    "\n",
    "class BigramLanguageModel(nn.Module):\n",
    "\n",
    "    def __init__(self, vocab_size):\n",
    "        super().__init__();\n",
    "        self.token_embedding_table = nn.Embedding(vocab_size, vocab_size)\n",
    "\n",
    "    def forward(self, idx, targets=None):\n",
    "        logits = self.token_embedding_table(idx)  # B, T, C (C is vocab_size)\n",
    "        if targets is None:\n",
    "            loss = None\n",
    "        else: \n",
    "            # Need to reshape for cross_entropy\n",
    "            B,T,C = logits.shape\n",
    "            logits = logits.view(B*T,C) # 32 65\n",
    "            targets = targets.view(B*T) # 32\n",
    "            loss = F.cross_entropy(logits, targets)\n",
    "        return logits, loss        \n",
    "\n",
    "    def generate(self, idx, max_tokens):\n",
    "        # idx is (B, T) array of current context\n",
    "        for _ in range(max_tokens):\n",
    "            # get the predictions\n",
    "            logits, loss= self(idx)\n",
    "            # Focus on the last time dimension\n",
    "            logits = logits[:,-1,:]\n",
    "            probs = F.softmax(logits, dim=-1)\n",
    "            idx_next = torch.multinomial(probs, num_samples=1)\n",
    "            idx = torch.cat((idx, idx_next), dim=1)\n",
    "        return idx\n",
    "\n",
    "model = BigramLanguageModel(vocab_size)\n",
    "logits, loss = model(xb, yb)\n",
    "print(logits.shape)\n",
    "print(loss)\n",
    "print('initial loss should be', -torch.log(torch.tensor(1/vocab_size)).item()) # negative log liklihood"
   ]
  },
  {
   "cell_type": "code",
   "execution_count": 248,
   "id": "7bfd08ec-b6d2-46fd-bc0e-c6b5ba140340",
   "metadata": {},
   "outputs": [
    {
     "name": "stdout",
     "output_type": "stream",
     "text": [
      "\n",
      "Sr?qP-QWktXoL&jLDJgOLVz'RIoDqHdhsV&vLLxatjscMpwLERSPyao.qfzs$Ys$zF-w,;eEkzxjgCKFChs!iWW.ObzDnxA Ms$3\n"
     ]
    }
   ],
   "source": [
    "out = model.generate(idx=torch.zeros((1,1), dtype=torch.long), max_tokens=100)\n",
    "print(decode(out[0].tolist()))"
   ]
  },
  {
   "cell_type": "code",
   "execution_count": 250,
   "id": "f074662e-55a1-44f0-8b74-d404bf5a9d99",
   "metadata": {},
   "outputs": [],
   "source": [
    "# Create a pytorch optimizer\n",
    "optimizer = torch.optim.AdamW(model.parameters(), lr=1e-3)"
   ]
  },
  {
   "cell_type": "code",
   "execution_count": 252,
   "id": "e2f5c8ba-e506-4e7a-9966-59c9707ce9ff",
   "metadata": {},
   "outputs": [
    {
     "name": "stdout",
     "output_type": "stream",
     "text": [
      "2.4951412677764893\n"
     ]
    }
   ],
   "source": [
    "batch_size = 32\n",
    "for steps in range(10000):\n",
    "    # sample data\n",
    "    xb, yb = getBatch('train')\n",
    "\n",
    "    logits, loss = model(xb, yb)\n",
    "    optimizer.zero_grad(set_to_none=True)\n",
    "    loss.backward()\n",
    "    optimizer.step()\n",
    "    \n",
    "print(loss.item())"
   ]
  },
  {
   "cell_type": "code",
   "execution_count": 253,
   "id": "f57b213a-e977-4ada-bb0d-fca38ef22f5f",
   "metadata": {},
   "outputs": [
    {
     "name": "stdout",
     "output_type": "stream",
     "text": [
      "\n",
      "\n",
      "wr:\n",
      "\n",
      "Man fe l in? bo houlde chaye--blllofthees s:\n",
      "Aw; myoug\n",
      "Thoo sduinowiu, bre hererotwestilfin ang: the s chebro lrid,\n",
      "Se'lan foowom ndiske\n",
      "tukistlinas:\n",
      "\n",
      "Orat lyowe wiclin:\n",
      "ALLars t th cinod as!\n",
      "Thevedevead;AEJUCaroftt,\n",
      "ADerde hy s tr;\n",
      "GSt cicoutrncolond p f IAwathaner:\n",
      "ONat they t fo be gs blle weamyoure itintet in'sut loomalll ink!\n",
      "F s sur,\n",
      "Thaveine thayouditelfrenevecyowe tes, hile\n",
      "Fas d,\n",
      "TI\n"
     ]
    }
   ],
   "source": [
    "out = model.generate(idx=torch.zeros((1,1), dtype=torch.long), max_tokens=400)\n",
    "print(decode(out[0].tolist()))"
   ]
  },
  {
   "cell_type": "code",
   "execution_count": 291,
   "id": "0803c56f-bd6d-4ddb-acd3-014115808434",
   "metadata": {},
   "outputs": [],
   "source": [
    "# Self attention\n",
    "B, T, C = 4, 8, 2\n",
    "x = torch.randn((B, T, C))"
   ]
  },
  {
   "cell_type": "code",
   "execution_count": 292,
   "id": "d9e335be-4a09-4c24-a25e-77180f99a74d",
   "metadata": {},
   "outputs": [],
   "source": [
    "xbow = torch.zeros((B,T,C))\n",
    "for b in range(B):\n",
    "    for t in range(T):\n",
    "        xprev = x[b,:t+1] # (t, C)\n",
    "        xbow[b,t] = torch.mean(xprev,0)\n",
    "    "
   ]
  },
  {
   "cell_type": "code",
   "execution_count": 293,
   "id": "2e04287c-688f-4bda-be04-823b69185ab0",
   "metadata": {},
   "outputs": [
    {
     "name": "stdout",
     "output_type": "stream",
     "text": [
      "tensor([[ 1.7680,  0.6972],\n",
      "        [-2.0178,  0.5771],\n",
      "        [ 0.9269,  0.7674],\n",
      "        [-1.4343,  1.3472],\n",
      "        [-1.3514, -1.2603],\n",
      "        [-0.4885,  0.2505],\n",
      "        [-0.4706, -0.4717],\n",
      "        [ 0.3559,  0.4468]])\n",
      "tensor([[ 1.7680,  0.6972],\n",
      "        [-0.1249,  0.6372],\n",
      "        [ 0.2257,  0.6806],\n",
      "        [-0.1893,  0.8473],\n",
      "        [-0.4217,  0.4257],\n",
      "        [-0.4328,  0.3965],\n",
      "        [-0.4382,  0.2725],\n",
      "        [-0.3390,  0.2943]])\n"
     ]
    }
   ],
   "source": [
    "print(x[0])\n",
    "print(xbow[0])"
   ]
  },
  {
   "cell_type": "code",
   "execution_count": 305,
   "id": "73e1b0d4-5468-415e-9b94-2165cda94579",
   "metadata": {},
   "outputs": [],
   "source": [
    "torch.manual_seed(42)\n",
    "a = torch.ones(3,3)\n",
    "b = torch.randint(0, 10, (3,2)).float()\n",
    "c = a @ b"
   ]
  },
  {
   "cell_type": "code",
   "execution_count": 306,
   "id": "4b3f6751-f8c7-40c4-966a-0285e06a9720",
   "metadata": {},
   "outputs": [
    {
     "name": "stdout",
     "output_type": "stream",
     "text": [
      "a\n",
      "tensor([[1., 1., 1.],\n",
      "        [1., 1., 1.],\n",
      "        [1., 1., 1.]])\n",
      "b\n",
      "tensor([[2., 7.],\n",
      "        [6., 4.],\n",
      "        [6., 5.]])\n",
      "c\n",
      "tensor([[14., 16.],\n",
      "        [14., 16.],\n",
      "        [14., 16.]])\n"
     ]
    }
   ],
   "source": [
    "print('a')\n",
    "print(a)\n",
    "print('b')\n",
    "print(b)\n",
    "print('c')\n",
    "print(c)"
   ]
  },
  {
   "cell_type": "code",
   "execution_count": 314,
   "id": "81d40f2d-341d-4d52-977c-1659d81e19b8",
   "metadata": {},
   "outputs": [],
   "source": [
    "a = torch.tril(torch.ones(3,3))\n",
    "a = a / torch.sum(a, 1, keepdim=True) # Average instead of just sum (from mat mul)\n",
    "b = torch.randint(0, 10, (3,2)).float()\n",
    "c = a @ b"
   ]
  },
  {
   "cell_type": "code",
   "execution_count": 315,
   "id": "664a57d4-0be2-4ffa-bae3-d3f0bbb5f4bc",
   "metadata": {},
   "outputs": [
    {
     "name": "stdout",
     "output_type": "stream",
     "text": [
      "a\n",
      "tensor([[1.0000, 0.0000, 0.0000],\n",
      "        [0.5000, 0.5000, 0.0000],\n",
      "        [0.3333, 0.3333, 0.3333]])\n",
      "b\n",
      "tensor([[9., 3.],\n",
      "        [1., 9.],\n",
      "        [7., 9.]])\n",
      "c\n",
      "tensor([[9.0000, 3.0000],\n",
      "        [5.0000, 6.0000],\n",
      "        [5.6667, 7.0000]])\n"
     ]
    }
   ],
   "source": [
    "print('a')\n",
    "print(a)\n",
    "print('b')\n",
    "print(b)\n",
    "print('c')\n",
    "print(c)"
   ]
  },
  {
   "cell_type": "code",
   "execution_count": 334,
   "id": "a3bd33b0-7d77-4423-86b9-899f9ac99c3c",
   "metadata": {},
   "outputs": [],
   "source": [
    "wei = torch.tril(torch.ones(T,T))\n",
    "wei = wei / wei.sum(1, keepdim=True) # (T, T)\n",
    "xbow2 = wei @ x # x is (B ,T, C). torch applies the mat mul over the batch so it's like doing (B, T, T) @ (B, T, C) so all good => (B, T, C)"
   ]
  },
  {
   "cell_type": "code",
   "execution_count": 335,
   "id": "0c3c9383-00b9-4a08-b30f-f81c7b1b84ac",
   "metadata": {},
   "outputs": [
    {
     "data": {
      "text/plain": [
       "torch.Size([4, 8, 2])"
      ]
     },
     "execution_count": 335,
     "metadata": {},
     "output_type": "execute_result"
    }
   ],
   "source": [
    "xbow2.shape"
   ]
  },
  {
   "cell_type": "code",
   "execution_count": 336,
   "id": "f9be0fdc-ca0b-4f29-a32f-50b3b2321126",
   "metadata": {},
   "outputs": [
    {
     "data": {
      "text/plain": [
       "True"
      ]
     },
     "execution_count": 336,
     "metadata": {},
     "output_type": "execute_result"
    }
   ],
   "source": [
    "torch.allclose(xbow, xbow2) # xbow2 is the same as xbow"
   ]
  },
  {
   "cell_type": "code",
   "execution_count": 338,
   "id": "329013bf-a445-484a-ad3b-8d21da3b0633",
   "metadata": {},
   "outputs": [
    {
     "data": {
      "text/plain": [
       "tensor([[1., 0., 0., 0., 0., 0., 0., 0.],\n",
       "        [1., 1., 0., 0., 0., 0., 0., 0.],\n",
       "        [1., 1., 1., 0., 0., 0., 0., 0.],\n",
       "        [1., 1., 1., 1., 0., 0., 0., 0.],\n",
       "        [1., 1., 1., 1., 1., 0., 0., 0.],\n",
       "        [1., 1., 1., 1., 1., 1., 0., 0.],\n",
       "        [1., 1., 1., 1., 1., 1., 1., 0.],\n",
       "        [1., 1., 1., 1., 1., 1., 1., 1.]])"
      ]
     },
     "execution_count": 338,
     "metadata": {},
     "output_type": "execute_result"
    }
   ],
   "source": [
    "torch.tril(torch.ones(T, T))"
   ]
  },
  {
   "cell_type": "code",
   "execution_count": 343,
   "id": "c4b62708-f01e-4eb2-a161-d96dcda2953f",
   "metadata": {},
   "outputs": [
    {
     "name": "stdout",
     "output_type": "stream",
     "text": [
      "tensor([[0., -inf, -inf, -inf, -inf, -inf, -inf, -inf],\n",
      "        [0., 0., -inf, -inf, -inf, -inf, -inf, -inf],\n",
      "        [0., 0., 0., -inf, -inf, -inf, -inf, -inf],\n",
      "        [0., 0., 0., 0., -inf, -inf, -inf, -inf],\n",
      "        [0., 0., 0., 0., 0., -inf, -inf, -inf],\n",
      "        [0., 0., 0., 0., 0., 0., -inf, -inf],\n",
      "        [0., 0., 0., 0., 0., 0., 0., -inf],\n",
      "        [0., 0., 0., 0., 0., 0., 0., 0.]])\n",
      "tensor([[False,  True,  True,  True,  True,  True,  True,  True],\n",
      "        [False, False,  True,  True,  True,  True,  True,  True],\n",
      "        [False, False, False,  True,  True,  True,  True,  True],\n",
      "        [False, False, False, False,  True,  True,  True,  True],\n",
      "        [False, False, False, False, False,  True,  True,  True],\n",
      "        [False, False, False, False, False, False,  True,  True],\n",
      "        [False, False, False, False, False, False, False,  True],\n",
      "        [False, False, False, False, False, False, False, False]])\n",
      "tensor([[1.0000, 0.0000, 0.0000, 0.0000, 0.0000, 0.0000, 0.0000, 0.0000],\n",
      "        [0.5000, 0.5000, 0.0000, 0.0000, 0.0000, 0.0000, 0.0000, 0.0000],\n",
      "        [0.3333, 0.3333, 0.3333, 0.0000, 0.0000, 0.0000, 0.0000, 0.0000],\n",
      "        [0.2500, 0.2500, 0.2500, 0.2500, 0.0000, 0.0000, 0.0000, 0.0000],\n",
      "        [0.2000, 0.2000, 0.2000, 0.2000, 0.2000, 0.0000, 0.0000, 0.0000],\n",
      "        [0.1667, 0.1667, 0.1667, 0.1667, 0.1667, 0.1667, 0.0000, 0.0000],\n",
      "        [0.1429, 0.1429, 0.1429, 0.1429, 0.1429, 0.1429, 0.1429, 0.0000],\n",
      "        [0.1250, 0.1250, 0.1250, 0.1250, 0.1250, 0.1250, 0.1250, 0.1250]])\n"
     ]
    }
   ],
   "source": [
    "print(wei.masked_fill(tril ==0, float('-inf')))\n",
    "print(tril==0)\n",
    "print(F.softmax(wei.masked_fill(tril ==0, float('-inf')), dim=-1))"
   ]
  },
  {
   "cell_type": "code",
   "execution_count": 337,
   "id": "ccf8fa7e-aa43-483c-87ba-90e4ad63202b",
   "metadata": {},
   "outputs": [
    {
     "data": {
      "text/plain": [
       "True"
      ]
     },
     "execution_count": 337,
     "metadata": {},
     "output_type": "execute_result"
    }
   ],
   "source": [
    "# 3 version using softmax\n",
    "tril = torch.tril(torch.ones(T, T))\n",
    "wei = torch.zeros((T, T))\n",
    "wei = wei.masked_fill(tril ==0, float('-inf'))\n",
    "wei = F.softmax(wei, dim=-1)\n",
    "xbow3 = wei @ x\n",
    "torch.allclose(xbow, xbow3)"
   ]
  },
  {
   "cell_type": "code",
   "execution_count": 344,
   "id": "bace4c52-451b-4fed-b72d-74a68d7a2ad4",
   "metadata": {},
   "outputs": [
    {
     "data": {
      "text/plain": [
       "tensor([0, 1, 2, 3, 4, 5, 6, 7, 8, 9])"
      ]
     },
     "execution_count": 344,
     "metadata": {},
     "output_type": "execute_result"
    }
   ],
   "source": [
    "torch.arange(10)"
   ]
  },
  {
   "cell_type": "code",
   "execution_count": 441,
   "id": "aff56508-d853-4a44-b9e6-58c5f33b04e1",
   "metadata": {},
   "outputs": [
    {
     "data": {
      "text/plain": [
       "torch.Size([4, 8, 16])"
      ]
     },
     "execution_count": 441,
     "metadata": {},
     "output_type": "execute_result"
    }
   ],
   "source": [
    "#version 4 self-attention!\n",
    "torch.manual_seed(1337)\n",
    "B, T, C = 4, 8, 32\n",
    "x = torch.randn(B, T, C)\n",
    "\n",
    "# single head of self-attention\n",
    "head_size = 16\n",
    "key = nn.Linear(C, head_size, bias=False)\n",
    "query = nn.Linear(C, head_size, bias=False)\n",
    "value = nn.Linear(C, head_size, bias=False)\n",
    "\n",
    "k = key(x) # B, T, head_size (B, T, 16)\n",
    "q = query(x) # B, T, head_size (B, T, 16)\n",
    "\n",
    "wei = q @ k.transpose(-2,-1) # (B, T, 16) @ (B, 16, T) => (B, T, T)\n",
    "wei *= head_size**-0.5 # Scale\n",
    "\n",
    "tril = torch.tril(torch.ones(T, T))\n",
    "wei = wei.masked_fill(tril ==0, float('-inf'))\n",
    "wei = F.softmax(wei, dim=-1)\n",
    "\n",
    "v = value(x)\n",
    "out = wei @ v\n",
    "#out = wei @ x\n",
    "\n",
    "out.shape"
   ]
  },
  {
   "cell_type": "code",
   "execution_count": 459,
   "id": "845c3a96-70f5-454d-840b-46ae7fda02a2",
   "metadata": {},
   "outputs": [
    {
     "data": {
      "text/plain": [
       "torch.Size([4, 8, 16])"
      ]
     },
     "execution_count": 459,
     "metadata": {},
     "output_type": "execute_result"
    }
   ],
   "source": [
    "torch.cat([wei, wei], -1).shape"
   ]
  },
  {
   "cell_type": "code",
   "execution_count": 437,
   "id": "74219b11-eac1-4530-9ecd-b2c274e232aa",
   "metadata": {},
   "outputs": [],
   "source": [
    "k = torch.randn(B, T, head_size)\n",
    "q = torch.randn(B, T, head_size)\n",
    "wei = q @ k.transpose(-2, -1) * head_size**-0.5"
   ]
  },
  {
   "cell_type": "code",
   "execution_count": 438,
   "id": "aed1cc8a-0ac7-4956-afb4-e1cff5b0a5fb",
   "metadata": {},
   "outputs": [
    {
     "data": {
      "text/plain": [
       "tensor(1.0918)"
      ]
     },
     "execution_count": 438,
     "metadata": {},
     "output_type": "execute_result"
    }
   ],
   "source": [
    "wei.var()"
   ]
  },
  {
   "cell_type": "code",
   "execution_count": 452,
   "id": "08297fe9-801e-4646-90d6-f592df29f589",
   "metadata": {},
   "outputs": [],
   "source": [
    "def Head(n):\n",
    "    return [1]"
   ]
  },
  {
   "cell_type": "code",
   "execution_count": 464,
   "id": "c687a300-9fda-42e9-a70e-3bfa8cfe87ae",
   "metadata": {},
   "outputs": [
    {
     "data": {
      "text/plain": [
       "[[1], [1], [1]]"
      ]
     },
     "execution_count": 464,
     "metadata": {},
     "output_type": "execute_result"
    }
   ],
   "source": [
    "[Head(1) for i in range(3)]"
   ]
  },
  {
   "cell_type": "code",
   "execution_count": 460,
   "id": "f7c81b90-827e-47ac-9830-bbdcd20e9fd0",
   "metadata": {},
   "outputs": [
    {
     "data": {
      "text/plain": [
       "8"
      ]
     },
     "execution_count": 460,
     "metadata": {},
     "output_type": "execute_result"
    }
   ],
   "source": [
    "65//8"
   ]
  },
  {
   "cell_type": "code",
   "execution_count": 461,
   "id": "463929cf-9548-48ac-97d1-c3fb23e6a1a3",
   "metadata": {},
   "outputs": [
    {
     "data": {
      "text/plain": [
       "8.125"
      ]
     },
     "execution_count": 461,
     "metadata": {},
     "output_type": "execute_result"
    }
   ],
   "source": [
    "65/8"
   ]
  },
  {
   "cell_type": "code",
   "execution_count": 462,
   "id": "e20bf969-61ba-43e4-9343-98deec1d9d52",
   "metadata": {},
   "outputs": [
    {
     "data": {
      "text/plain": [
       "64"
      ]
     },
     "execution_count": 462,
     "metadata": {},
     "output_type": "execute_result"
    }
   ],
   "source": [
    "8*8"
   ]
  },
  {
   "cell_type": "code",
   "execution_count": 465,
   "id": "c18ca9e9-b970-4cd8-88b3-1fe4f8fe1efe",
   "metadata": {},
   "outputs": [
    {
     "data": {
      "text/plain": [
       "'\\nLOG:\\nloss about 2.5\\n'"
      ]
     },
     "execution_count": 465,
     "metadata": {},
     "output_type": "execute_result"
    }
   ],
   "source": [
    "import torch\n",
    "import torch.nn as nn\n",
    "from torch.nn import functional as F\n",
    "\n",
    "# hyperparameters\n",
    "batch_size = 32\n",
    "block_size = 8 # context size\n",
    "max_iters = 3000\n",
    "eval_interval = 300\n",
    "learning_rate = 1e-2\n",
    "device = 'cuda' if torch.cuda.is_available() else 'cpu'\n",
    "eval_iters = 200\n",
    "n_embed = 32\n",
    "\n",
    "# -----------------\n",
    "\n",
    "torch.manual_seed(1337)\n",
    "\n",
    "#https://raw.githubusercontent.com/karpathy/char-rnn/master/data/tinyshakespeare/input.txt\n",
    "# read it in to inspect it\n",
    "with open('./input.txt', 'r', encoding='utf-8') as f:\n",
    "    text = f.read()\n",
    "\n",
    "chars = sorted(list(set(text)))\n",
    "vocab_size = len(chars)\n",
    "# tokenize chars\n",
    "stoi = {x:i for i,x in enumerate(chars)}\n",
    "itos = {i:x for i,x in enumerate(chars)}\n",
    "encode = lambda s: [stoi[c] for c in s]\n",
    "decode = lambda xs: \"\".join([itos[x] for x in xs])\n",
    "\n",
    "\n",
    "class BigramLanguageModel(nn.Module):\n",
    "    def __init__(self):\n",
    "        super().__init__()\n",
    "        self.token_embedding_table = nn.Embedding(vocab_size, n_embed)\n",
    "        self.position_embedding_table = nn.Embedding(block_size, n_embed)\n",
    "        self.lm_head = nn.Linear(n_embed, vocab_size)\n",
    "\n",
    "    def forward(self, idx, targets=None):\n",
    "        B, T = idx.shape\n",
    "\n",
    "        token_emb = self.token_embedding_table(idx)  # B, T, C  (C is n_embed)\n",
    "        position_emb = self.position_embedding_table(torch.arange(T, device=device)) # T, C (create an embedding for each time step)\n",
    "        x = token_emb + position_emb\n",
    "        logits = self.lm_head(x) # B, T, vocab_size\n",
    "\n",
    "        if targets is None:\n",
    "            loss = None\n",
    "        else: \n",
    "            # Need to reshape for cross_entropy\n",
    "            B,T,C = logits.shape\n",
    "            logits = logits.view(B*T,C) # 32 65\n",
    "            targets = targets.view(B*T) # 32\n",
    "            loss = F.cross_entropy(logits, targets)\n",
    "        return logits, loss        \n",
    "\n",
    "    def generate(self, idx, max_tokens):\n",
    "        \n",
    "        # idx is (B, T) array of current context\n",
    "        for _ in range(max_tokens):\n",
    "            # get the predictions\n",
    "            logits, loss= self(idx[:,-block_size:])\n",
    "            # Focus on the last time dimension\n",
    "            logits = logits[:,-1,:]\n",
    "            probs = F.softmax(logits, dim=-1)\n",
    "            idx_next = torch.multinomial(probs, num_samples=1)\n",
    "            idx = torch.cat((idx, idx_next), dim=1)\n",
    "        return idx\n",
    "\n",
    "\n",
    "# Data splits\n",
    "data = torch.tensor(encode(text), dtype=torch.long)\n",
    "n=int(0.9*len(data))\n",
    "train_data=data[:n]\n",
    "val_data=data[n:]\n",
    "\n",
    "def getBatch(split):\n",
    "    data = train_data if split == 'train' else val_data\n",
    "    ix = torch.randint(len(data)- block_size, (batch_size,)) ## len(data) - block_size so we don't index out of range\n",
    "    x = torch.stack([data[i:block_size+i] for i in ix])\n",
    "    y = torch.stack([data[i+1:block_size+i+1] for i in ix])\n",
    "    x,y = x.to(device), y.to(device)\n",
    "    return x,y \n",
    "\n",
    "@torch.no_grad\n",
    "def estimate_loss():\n",
    "    out = {}\n",
    "    model.eval()\n",
    "    for split in ['train','val']:\n",
    "        losses = torch.zeros(eval_iters)\n",
    "        for k in range(eval_iters):\n",
    "            x, y = getBatch(split)\n",
    "            _, loss = model(x, y)\n",
    "            losses[k] = loss.item()\n",
    "        out[split] = losses.mean() # Average the losses to make loss less noisy\n",
    "    model.train()\n",
    "    return out\n",
    "\n",
    "def printSampleFromModel(context, max_tokens):\n",
    "   print(decode(model.generate(idx=context, max_tokens=max_tokens)[0].tolist()))\n",
    "\n",
    "m = BigramLanguageModel()\n",
    "model = m.to(device)\n",
    "\n",
    "\"\"\"\n",
    "LOG:\n",
    "loss about 2.5\n",
    "\"\"\""
   ]
  },
  {
   "cell_type": "code",
   "execution_count": 478,
   "id": "a738e926-6c2d-49e8-a1a9-abe30b91d87d",
   "metadata": {},
   "outputs": [],
   "source": [
    "torch.save(model, 'model.pth')"
   ]
  },
  {
   "cell_type": "code",
   "execution_count": 480,
   "id": "55f8b3da-c3f9-4752-96f8-54db6cf8258b",
   "metadata": {},
   "outputs": [],
   "source": [
    "m = None"
   ]
  },
  {
   "cell_type": "code",
   "execution_count": 481,
   "id": "4bff3b74-4a2b-482f-bf21-e1b3311ce9b0",
   "metadata": {},
   "outputs": [],
   "source": [
    "m = torch.load('model.pth')"
   ]
  },
  {
   "cell_type": "code",
   "execution_count": 482,
   "id": "de7ec60f-7c76-4b7c-b43f-066486bae9e1",
   "metadata": {},
   "outputs": [
    {
     "data": {
      "text/plain": [
       "BigramLanguageModel(\n",
       "  (token_embedding_table): Embedding(65, 32)\n",
       "  (position_embedding_table): Embedding(8, 32)\n",
       "  (lm_head): Linear(in_features=32, out_features=65, bias=True)\n",
       ")"
      ]
     },
     "execution_count": 482,
     "metadata": {},
     "output_type": "execute_result"
    }
   ],
   "source": [
    "m"
   ]
  },
  {
   "cell_type": "code",
   "execution_count": 484,
   "id": "a0c9d842-f149-429c-85b9-57b8d6b52610",
   "metadata": {},
   "outputs": [
    {
     "data": {
      "text/plain": [
       "OrderedDict([('token_embedding_table.weight',\n",
       "              tensor([[ 0.1808, -0.0700, -0.3596,  ..., -0.8016,  1.5236,  2.5086],\n",
       "                      [-0.6631, -0.2513,  1.0101,  ...,  1.5333,  1.6097, -0.4032],\n",
       "                      [-0.8345,  0.5978, -0.0514,  ..., -0.4370, -1.0012, -0.4094],\n",
       "                      ...,\n",
       "                      [-0.6840, -0.4390, -0.7137,  ...,  1.4416, -1.8638, -1.0699],\n",
       "                      [-0.6119, -0.4034,  0.3025,  ...,  0.0910,  0.5422, -0.6110],\n",
       "                      [ 0.5220,  2.1368, -1.4166,  ...,  1.0078,  0.2930,  0.0943]])),\n",
       "             ('position_embedding_table.weight',\n",
       "              tensor([[ 0.7029,  1.4840,  0.1137, -0.7371, -1.7494,  1.6451, -1.1817, -0.6371,\n",
       "                       -0.9732, -1.9146,  2.0668,  2.1432,  0.0265,  0.8326, -0.4853, -1.2051,\n",
       "                       -0.7008,  2.0997,  0.1142, -0.0647,  0.5901,  0.6097, -0.7080, -0.3850,\n",
       "                       -0.7042,  0.0616,  0.0651,  0.7978,  0.6647,  1.0145,  0.4815, -1.5916],\n",
       "                      [-0.9094, -1.2915,  0.8645,  0.7518,  1.3897, -1.7526, -1.1510,  0.8768,\n",
       "                        2.1139, -2.1624, -0.7994, -0.6638, -0.9453, -0.6153,  0.0828, -0.3803,\n",
       "                       -0.4744, -0.0529,  0.5747, -1.0720, -0.5899,  1.5777,  0.3717,  1.3653,\n",
       "                        0.8063,  0.7079,  0.4246, -1.3467, -0.8245, -0.5145, -0.5048,  0.8791],\n",
       "                      [ 0.4086, -1.4731,  0.8040, -0.1425, -0.8867, -1.1992,  1.3617,  1.0990,\n",
       "                        0.1988, -1.4371, -0.3868, -0.5995,  0.8462,  1.1822,  2.0471,  0.1361,\n",
       "                        0.1421,  0.3871,  1.4001,  0.0815,  1.7752, -1.2900,  0.6322, -0.2258,\n",
       "                       -1.7284, -0.3219, -0.1536,  1.9895, -0.1837, -0.6893,  0.5360,  0.0078],\n",
       "                      [-0.5903, -0.7970, -1.8383,  0.9867, -0.4442, -0.1087,  0.1604,  0.0260,\n",
       "                       -0.7539, -0.3116,  0.5368, -0.1368,  0.0878, -0.3543,  1.5475,  0.5125,\n",
       "                        1.1790, -0.4160, -0.8031, -0.1850, -0.4484, -0.9588, -0.1461, -0.5239,\n",
       "                        0.4418, -0.9468, -0.1421,  0.4410, -0.1204,  1.2491, -0.8952,  0.7180],\n",
       "                      [ 0.3684,  2.2792, -0.3402, -0.7501,  0.2942,  0.7626,  2.6536,  0.4730,\n",
       "                        0.0314, -0.1513,  1.5333,  1.0515, -0.4613,  2.0802,  0.8309, -0.8416,\n",
       "                        0.7062, -1.0877,  0.0698, -1.1470, -0.5624, -0.1978,  0.8101, -1.0031,\n",
       "                        1.5461,  1.2420,  0.5707, -0.0135, -1.0993,  1.3919,  0.9944,  0.5453],\n",
       "                      [ 0.0429,  0.9108,  1.5571, -0.7094,  0.6623, -1.6373,  0.5799, -0.0682,\n",
       "                        0.2936, -1.1519,  1.6110,  0.5486, -2.8114,  0.1064, -1.1193,  0.0351,\n",
       "                       -0.1004, -0.6131,  2.0785,  1.1399,  1.3345, -0.0741, -1.3989, -0.8832,\n",
       "                        0.4431,  0.0717,  1.3737,  0.1206,  0.6658,  0.1704,  0.6585,  1.0239],\n",
       "                      [ 0.4602,  0.3275,  2.1779,  0.7681, -0.0430,  0.1073, -0.2059, -1.2616,\n",
       "                       -0.2270,  0.1066, -0.1683,  0.2433, -0.5709,  2.3408, -2.5665,  0.9935,\n",
       "                       -0.0124, -0.6971,  0.7903,  0.5051, -0.6004, -0.3287, -0.2818,  0.2799,\n",
       "                        0.9678, -1.0858,  1.0346,  0.0428, -0.3025,  0.5520, -0.5940,  0.7718],\n",
       "                      [-0.2502, -0.4973, -0.1547,  1.4592, -0.4754,  0.0821,  2.2645, -1.2837,\n",
       "                       -0.4539, -0.9422, -0.6697,  0.0602,  0.1464,  0.3007, -0.6955, -1.0944,\n",
       "                        0.9295,  0.3155, -0.3942, -0.0968,  1.3060, -1.2617, -0.0670,  0.2999,\n",
       "                       -0.7043, -0.0390, -1.8838, -0.6024, -0.3366,  0.3025, -0.4242,  0.2360]])),\n",
       "             ('lm_head.weight',\n",
       "              tensor([[ 0.0003, -0.0996, -0.0062,  ...,  0.1743, -0.0603,  0.1011],\n",
       "                      [ 0.1594, -0.0974, -0.0522,  ...,  0.0468,  0.1405,  0.1196],\n",
       "                      [-0.1467, -0.0228,  0.0764,  ..., -0.1744, -0.0561, -0.0748],\n",
       "                      ...,\n",
       "                      [ 0.1308, -0.0237,  0.0382,  ..., -0.1042, -0.0610, -0.0997],\n",
       "                      [-0.0947,  0.0541,  0.0113,  ...,  0.1422,  0.1346, -0.0294],\n",
       "                      [-0.1268, -0.0894,  0.1234,  ...,  0.0620, -0.1365, -0.0750]])),\n",
       "             ('lm_head.bias',\n",
       "              tensor([ 0.0211, -0.1286,  0.0850,  0.0875, -0.1350,  0.1152,  0.0023,  0.1393,\n",
       "                       0.0382, -0.1072,  0.0766, -0.0515, -0.0553, -0.0399,  0.1202,  0.0152,\n",
       "                       0.0992,  0.0534, -0.0290,  0.0980,  0.1106,  0.0742, -0.1651, -0.1416,\n",
       "                      -0.0981, -0.0216, -0.0393, -0.0444,  0.0855, -0.1198,  0.1416, -0.0581,\n",
       "                      -0.0873, -0.1597,  0.0250,  0.0038, -0.1281, -0.0108, -0.0775, -0.0161,\n",
       "                      -0.1714, -0.0255, -0.0723,  0.0077, -0.1677,  0.1009, -0.1664,  0.0063,\n",
       "                       0.0489,  0.1530, -0.0676, -0.0613,  0.0530,  0.0148, -0.0690,  0.1014,\n",
       "                       0.1307,  0.0821,  0.0997, -0.0789, -0.0763, -0.0322,  0.0141,  0.1674,\n",
       "                       0.1136]))])"
      ]
     },
     "execution_count": 484,
     "metadata": {},
     "output_type": "execute_result"
    }
   ],
   "source": [
    "m.state_dict()"
   ]
  },
  {
   "cell_type": "code",
   "execution_count": 485,
   "id": "d206d8a1-fd57-4a42-bb82-bfdaa02a0c2f",
   "metadata": {},
   "outputs": [
    {
     "data": {
      "text/plain": [
       "<function __main__.printSampleFromModel(context, max_tokens)>"
      ]
     },
     "execution_count": 485,
     "metadata": {},
     "output_type": "execute_result"
    }
   ],
   "source": [
    "printSampleFromModel"
   ]
  },
  {
   "cell_type": "code",
   "execution_count": 486,
   "id": "e2076309-0b0b-40f5-90e2-5aa53575c67a",
   "metadata": {},
   "outputs": [
    {
     "name": "stdout",
     "output_type": "stream",
     "text": [
      "\n",
      "&Ks.O&HmpJQ!,!g'lN3VzFMPy'hXCchX.w.XBPlDNE.lIm!Dlnw?HxC?r?wHHVxG&DltmuyURERJFRsXUyg-NwSimQalUEavePDIYUGv&JpHBzdRO3yhCVjwy.R!yMTs-Ng3b3tB saBboP g;BxO.PNJNEMwXlDNYJpxsSFHYu3KXB.lehnsFhgRGFXhwIrlSX!?BeM\n"
     ]
    }
   ],
   "source": [
    "context = torch.zeros((1,1), dtype=torch.long, device=device)\n",
    "printSampleFromModel(context, 200)"
   ]
  },
  {
   "cell_type": "code",
   "execution_count": 491,
   "id": "3a7f95a1-bf97-43eb-a02c-5bc5f8f48aed",
   "metadata": {},
   "outputs": [],
   "source": [
    "# ---------------- MODELS\n",
    "\n",
    "class Head(nn.Module):\n",
    "    \"\"\" Single head of self-attention \"\"\"\n",
    "\n",
    "    def __init__(self, head_size):\n",
    "        super().__init__()\n",
    "        self.key = nn.Linear(n_embed, head_size, bias=False)\n",
    "        self.query = nn.Linear(n_embed, head_size, bias=False)\n",
    "        self.value = nn.Linear(n_embed, head_size, bias=False)\n",
    "        self.register_buffer('tril', torch.tril(torch.ones(block_size, block_size)))\n",
    "\n",
    "    def forward(self, x):\n",
    "        B, T, C = x.shape\n",
    "        k = self.key(x) # B, T, head_size (B, T, 16)\n",
    "        q = self.query(x) # B, T, head_size (B, T, 16)\n",
    "\n",
    "        wei = q @ k.transpose(-2,-1) # (B, T, 16) @ (B, 16, T) => (B, T, T)\n",
    "        wei *= C**-0.5 # Scale attention\n",
    "        wei = wei.masked_fill(self.tril[:T,:T] ==0, float('-inf')) # Doesn't communitcate with the past\n",
    "        wei = F.softmax(wei, dim=-1)\n",
    "        v = self.value(x)\n",
    "        out = wei @ v\n",
    "        return out\n",
    "    \n",
    "class MultiHeadAttention(nn.Module):\n",
    "\n",
    "    def __init__(self, n_head, head_size):\n",
    "        super().__init__()\n",
    "        self.heads =nn.ModuleList([Head(head_size) for i in range(n_head)])\n",
    "        self.proj = nn.Linear(n_embed, n_embed)\n",
    "\n",
    "    def forward(self, x):\n",
    "        outs = [head(x) for head in self.heads]\n",
    "        out = torch.cat(outs, -1)\n",
    "        out = self.proj(out)\n",
    "        return out\n",
    "\n",
    "class FeedForward(nn.Module):\n",
    "\n",
    "    def __init__(self, n_embed):\n",
    "        super().__init__()\n",
    "        self.net = nn.Sequential(\n",
    "            nn.Linear(n_embed, 4*n_embed),\n",
    "            nn.ReLU(),\n",
    "            nn.Linear(4*n_embed, n_embed),\n",
    "        )\n",
    "    def forward(self, x):\n",
    "        return self.net(x)\n",
    "    \n",
    "class Block(nn.Module):\n",
    "    def __init__(self, n_embed, n_head):\n",
    "        super().__init__()\n",
    "        head_size = n_embed // n_head\n",
    "        self.sa = MultiHeadAttention(n_head, head_size)\n",
    "        self.ln1 = nn.LayerNorm(n_embed) # Normalize the last dim (C) which is n_embed\n",
    "        self.ffwd = FeedForward(n_embed)\n",
    "        self.ln2 = nn.LayerNorm(n_embed)\n",
    "\n",
    "    def forward(self, x):\n",
    "        x = self.sa(self.ln1(x))+ x\n",
    "        x = self.ffwd(self.ln2(x)) + x\n",
    "        return x\n",
    "    \n",
    "class TransformerModel(nn.Module):\n",
    "    def __init__(self):\n",
    "        super().__init__()\n",
    "        self.token_embedding_table = nn.Embedding(vocab_size, n_embed)\n",
    "        self.position_embedding_table = nn.Embedding(block_size, n_embed)\n",
    "        self.blocks = nn.Sequential(\n",
    "            Block(n_embed, n_head),\n",
    "            Block(n_embed, n_head),\n",
    "            Block(n_embed, n_head))\n",
    "        self.blocks = nn.Sequential(*[Block(n_embed, n_head) for _ in range(n_layer)])\n",
    "        self.lm_head = nn.Linear(n_embed, vocab_size)\n",
    "        \n",
    "\n",
    "    def forward(self, idx, targets=None):\n",
    "        B, T = idx.shape\n",
    "\n",
    "        token_emb = self.token_embedding_table(idx)  # B, T, C  (C is n_embed)\n",
    "        position_emb = self.position_embedding_table(torch.arange(T, device=device)) # T, C (create an embedding for each time step)\n",
    "        x = token_emb + position_emb # (B, T, C)\n",
    "        x = self.blocks(x)\n",
    "        logits = self.lm_head(x) # B, T, vocab_size\n",
    "\n",
    "        if targets is None:\n",
    "            loss = None\n",
    "        else: \n",
    "            # Need to reshape for cross_entropy\n",
    "            B,T,C = logits.shape\n",
    "            logits = logits.view(B*T,C) # 32 65\n",
    "            targets = targets.view(B*T) # 32\n",
    "            loss = F.cross_entropy(logits, targets)\n",
    "        return logits, loss        \n",
    "\n",
    "    def generate(self, idx, max_tokens):\n",
    "        \n",
    "        # idx is (B, T) array of current context\n",
    "        for _ in range(max_tokens):\n",
    "            # get the predictions\n",
    "            logits, loss= self(idx[:,-block_size:])\n",
    "            # Focus on the last time dimension\n",
    "            logits = logits[:,-1,:]\n",
    "            probs = F.softmax(logits, dim=-1)\n",
    "            idx_next = torch.multinomial(probs, num_samples=1)\n",
    "            idx = torch.cat((idx, idx_next), dim=1)\n",
    "        return idx"
   ]
  },
  {
   "cell_type": "code",
   "execution_count": 492,
   "id": "f1226e04-14a3-4703-b764-cd509ecf1797",
   "metadata": {},
   "outputs": [
    {
     "name": "stdout",
     "output_type": "stream",
     "text": [
      "\n",
      "quid you k are rear wos to ktris?\n",
      "I thano behe kinines, is bef cerege, paneefor reem me st virsereeos of dare son\n",
      "Oft to more tought oryise, fotun for kind\n",
      "I matper not?\n",
      "Trevieelootere;\n",
      "We the adife this jobsher whe,\n",
      "Tcoumuss; is scromen pow jarinioned upouppaitsher; the pastanene\n",
      "Be mot so,\n",
      "Shrrewight.\n",
      "AUTES:\n",
      "Your sainrEquest are and fole peppole his cappert hom hanted is\n",
      "we\n",
      "conte mak admes fold\n",
      "\n"
     ]
    }
   ],
   "source": [
    "model = torch.load('model_v2.pth')\n",
    "context = torch.zeros((1,1), dtype=torch.long, device=device)\n",
    "printSampleFromModel(context, 400)"
   ]
  },
  {
   "cell_type": "code",
   "execution_count": null,
   "id": "e5086d9d-9a55-4819-a49a-daddbcd9ce62",
   "metadata": {},
   "outputs": [],
   "source": []
  }
 ],
 "metadata": {
  "kernelspec": {
   "display_name": "Python 3 (ipykernel)",
   "language": "python",
   "name": "python3"
  },
  "language_info": {
   "codemirror_mode": {
    "name": "ipython",
    "version": 3
   },
   "file_extension": ".py",
   "mimetype": "text/x-python",
   "name": "python",
   "nbconvert_exporter": "python",
   "pygments_lexer": "ipython3",
   "version": "3.12.2"
  }
 },
 "nbformat": 4,
 "nbformat_minor": 5
}
