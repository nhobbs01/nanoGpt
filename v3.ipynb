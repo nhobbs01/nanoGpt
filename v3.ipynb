{
  "cells": [
    {
      "cell_type": "code",
      "source": [
        "from google.colab import drive\n",
        "# Mount Google Drive\n",
        "drive.mount('/content/drive')\n",
        "!ls \"/content/drive/My Drive/ml\""
      ],
      "metadata": {
        "id": "bjnzylavCLvC"
      },
      "id": "bjnzylavCLvC",
      "execution_count": null,
      "outputs": []
    },
    {
      "cell_type": "code",
      "execution_count": 7,
      "id": "bc6f76dd-48e0-4d23-b2d8-ff6f8a015e87",
      "metadata": {
        "colab": {
          "base_uri": "https://localhost:8080/"
        },
        "id": "bc6f76dd-48e0-4d23-b2d8-ff6f8a015e87",
        "outputId": "c462d73f-4d65-40d4-cacf-741cc255a8ab"
      },
      "outputs": [
        {
          "output_type": "execute_result",
          "data": {
            "text/plain": [
              "<torch._C.Generator at 0x7b2b041f6150>"
            ]
          },
          "metadata": {},
          "execution_count": 7
        }
      ],
      "source": [
        "import torch\n",
        "import torch.nn as nn\n",
        "from torch.nn import functional as F\n",
        "from datetime import datetime\n",
        "\n",
        "# Scale the model up to run on GPU\n",
        "# hyperparameters\n",
        "batch_size = 64 # number of independent sequences processed in parallel\n",
        "block_size = 256 # context size\n",
        "max_iters = 5000\n",
        "eval_interval = 500\n",
        "learning_rate = 3e-4\n",
        "device = 'cuda' if torch.cuda.is_available() else 'cpu'\n",
        "eval_iters = 200\n",
        "n_embed = 384\n",
        "n_head = 6\n",
        "n_layer = 6\n",
        "dropout = 0.2\n",
        "# -----------------\n",
        "\n",
        "torch.manual_seed(1337)"
      ]
    },
    {
      "cell_type": "code",
      "source": [
        "print('Device', device)"
      ],
      "metadata": {
        "colab": {
          "base_uri": "https://localhost:8080/"
        },
        "id": "Y1wpn2GweK7I",
        "outputId": "2b729b68-68c5-4d4b-e756-1064ad7fa301"
      },
      "id": "Y1wpn2GweK7I",
      "execution_count": 8,
      "outputs": [
        {
          "output_type": "stream",
          "name": "stdout",
          "text": [
            "Device cuda\n"
          ]
        }
      ]
    },
    {
      "cell_type": "code",
      "execution_count": 9,
      "id": "9c4cf402-ee5c-46e0-9ba8-ded87459a2a7",
      "metadata": {
        "id": "9c4cf402-ee5c-46e0-9ba8-ded87459a2a7"
      },
      "outputs": [],
      "source": [
        "# ---------------- MODELS\n",
        "\n",
        "class Head(nn.Module):\n",
        "    \"\"\" Single head of self-attention \"\"\"\n",
        "\n",
        "    def __init__(self, head_size):\n",
        "        super().__init__()\n",
        "        self.head_size = head_size\n",
        "        self.key = nn.Linear(n_embed, head_size, bias=False)\n",
        "        self.query = nn.Linear(n_embed, head_size, bias=False)\n",
        "        self.value = nn.Linear(n_embed, head_size, bias=False)\n",
        "        self.register_buffer('tril', torch.tril(torch.ones(block_size, block_size)))\n",
        "        self.drop = nn.Dropout(dropout)\n",
        "\n",
        "    def forward(self, x):\n",
        "        B, T, C = x.shape\n",
        "        k = self.key(x) # B, T, head_size (B, T, 16)\n",
        "        q = self.query(x) # B, T, head_size (B, T, 16)\n",
        "\n",
        "        wei = q @ k.transpose(-2,-1) # (B, T, 16) @ (B, 16, T) => (B, T, T)\n",
        "        wei *= self.head_size**-0.5 # Scale attention\n",
        "        wei = wei.masked_fill(self.tril[:T,:T] ==0, float('-inf')) # Doesn't communitcate with the past\n",
        "        wei = F.softmax(wei, dim=-1)\n",
        "        wei = self.drop(wei)\n",
        "        v = self.value(x)\n",
        "        out = wei @ v\n",
        "        return out\n",
        "\n",
        "class MultiHeadAttention(nn.Module):\n",
        "\n",
        "    def __init__(self, n_head, head_size):\n",
        "        super().__init__()\n",
        "        self.heads =nn.ModuleList([Head(head_size) for i in range(n_head)])\n",
        "        self.proj = nn.Linear(n_embed, n_embed)\n",
        "        self.drop = nn.Dropout(dropout)\n",
        "\n",
        "    def forward(self, x):\n",
        "        outs = [head(x) for head in self.heads]\n",
        "        out = torch.cat(outs, -1)\n",
        "        out = self.drop(self.proj(out))\n",
        "        return out\n",
        "\n",
        "class FeedForward(nn.Module):\n",
        "\n",
        "    def __init__(self, n_embed):\n",
        "        super().__init__()\n",
        "        self.net = nn.Sequential(\n",
        "            nn.Linear(n_embed, 4*n_embed),\n",
        "            nn.ReLU(),\n",
        "            nn.Linear(4*n_embed, n_embed),\n",
        "            nn.Dropout(dropout)\n",
        "        )\n",
        "    def forward(self, x):\n",
        "        return self.net(x)\n",
        "\n",
        "class Block(nn.Module):\n",
        "    def __init__(self, n_embed, n_head):\n",
        "        super().__init__()\n",
        "        head_size = n_embed // n_head\n",
        "        self.sa = MultiHeadAttention(n_head, head_size)\n",
        "        self.ln1 = nn.LayerNorm(n_embed) # Normalize the last dim (C) which is n_embed\n",
        "        self.ffwd = FeedForward(n_embed)\n",
        "        self.ln2 = nn.LayerNorm(n_embed)\n",
        "\n",
        "    def forward(self, x):\n",
        "        x = self.sa(self.ln1(x))+ x\n",
        "        x = self.ffwd(self.ln2(x)) + x\n",
        "        return x\n",
        "\n",
        "class TransformerModel(nn.Module):\n",
        "    def __init__(self):\n",
        "        super().__init__()\n",
        "        self.token_embedding_table = nn.Embedding(vocab_size, n_embed)\n",
        "        self.position_embedding_table = nn.Embedding(block_size, n_embed)\n",
        "        self.blocks = nn.Sequential(\n",
        "            Block(n_embed, n_head),\n",
        "            Block(n_embed, n_head),\n",
        "            Block(n_embed, n_head))\n",
        "        self.blocks = nn.Sequential(*[Block(n_embed, n_head) for _ in range(n_layer)])\n",
        "        self.lm_head = nn.Linear(n_embed, vocab_size)\n",
        "\n",
        "\n",
        "    def forward(self, idx, targets=None):\n",
        "        B, T = idx.shape\n",
        "\n",
        "        token_emb = self.token_embedding_table(idx)  # B, T, C  (C is n_embed)\n",
        "        position_emb = self.position_embedding_table(torch.arange(T, device=device)) # T, C (create an embedding for each time step)\n",
        "        x = token_emb + position_emb # (B, T, C)\n",
        "        x = self.blocks(x)\n",
        "        logits = self.lm_head(x) # B, T, vocab_size\n",
        "\n",
        "        if targets is None:\n",
        "            loss = None\n",
        "        else:\n",
        "            # Need to reshape for cross_entropy\n",
        "            B,T,C = logits.shape\n",
        "            logits = logits.view(B*T,C) # 32 65\n",
        "            targets = targets.view(B*T) # 32\n",
        "            loss = F.cross_entropy(logits, targets)\n",
        "        return logits, loss\n",
        "\n",
        "    def generate(self, idx, max_tokens):\n",
        "\n",
        "        # idx is (B, T) array of current context\n",
        "        for _ in range(max_tokens):\n",
        "            # get the predictions\n",
        "            logits, loss= self(idx[:,-block_size:])\n",
        "            # Focus on the last time dimension\n",
        "            logits = logits[:,-1,:]\n",
        "            probs = F.softmax(logits, dim=-1)\n",
        "            idx_next = torch.multinomial(probs, num_samples=1)\n",
        "            idx = torch.cat((idx, idx_next), dim=1)\n",
        "        return idx"
      ]
    },
    {
      "cell_type": "code",
      "execution_count": 11,
      "id": "744495e1-48ca-4936-9765-0dc37dd7f0e9",
      "metadata": {
        "id": "744495e1-48ca-4936-9765-0dc37dd7f0e9"
      },
      "outputs": [],
      "source": [
        "#https://raw.githubusercontent.com/karpathy/char-rnn/master/data/tinyshakespeare/input.txt\n",
        "# read it in to inspect it\n",
        "with open('/content/drive/My Drive/ml/data/input.txt', 'r', encoding='utf-8') as f:\n",
        "    text = f.read()\n",
        "\n",
        "chars = sorted(list(set(text)))\n",
        "vocab_size = len(chars)\n",
        "# tokenize chars\n",
        "stoi = {x:i for i,x in enumerate(chars)}\n",
        "itos = {i:x for i,x in enumerate(chars)}\n",
        "encode = lambda s: [stoi[c] for c in s]\n",
        "decode = lambda xs: \"\".join([itos[x] for x in xs])"
      ]
    },
    {
      "cell_type": "code",
      "source": [
        "print(decode(encode(text[:100])))"
      ],
      "metadata": {
        "colab": {
          "base_uri": "https://localhost:8080/"
        },
        "id": "itA3XvJ4ecQb",
        "outputId": "8d6f3838-9599-4529-be46-492291f0d398"
      },
      "id": "itA3XvJ4ecQb",
      "execution_count": 12,
      "outputs": [
        {
          "output_type": "stream",
          "name": "stdout",
          "text": [
            "First Citizen:\n",
            "Before we proceed any further, hear me speak.\n",
            "\n",
            "All:\n",
            "Speak, speak.\n",
            "\n",
            "First Citizen:\n",
            "You\n"
          ]
        }
      ]
    },
    {
      "cell_type": "code",
      "execution_count": 13,
      "id": "8efbe0a4-2137-4acd-bc01-9602889e95a5",
      "metadata": {
        "id": "8efbe0a4-2137-4acd-bc01-9602889e95a5"
      },
      "outputs": [],
      "source": [
        "# Data splits\n",
        "data = torch.tensor(encode(text), dtype=torch.long)\n",
        "n=int(0.9*len(data))\n",
        "train_data=data[:n]\n",
        "val_data=data[n:]"
      ]
    },
    {
      "cell_type": "code",
      "execution_count": 14,
      "id": "25c7db2c-7a15-42bf-bc1d-5d7c2b4e2d38",
      "metadata": {
        "id": "25c7db2c-7a15-42bf-bc1d-5d7c2b4e2d38"
      },
      "outputs": [],
      "source": [
        "def getBatch(split):\n",
        "    data = train_data if split == 'train' else val_data\n",
        "    ix = torch.randint(len(data)- block_size, (batch_size,)) ## len(data) - block_size so we don't index out of range\n",
        "    x = torch.stack([data[i:block_size+i] for i in ix])\n",
        "    y = torch.stack([data[i+1:block_size+i+1] for i in ix])\n",
        "    x,y = x.to(device), y.to(device)\n",
        "    return x,y\n",
        "\n",
        "@torch.no_grad\n",
        "def estimate_loss():\n",
        "    out = {}\n",
        "    model.eval()\n",
        "    for split in ['train','val']:\n",
        "        losses = torch.zeros(eval_iters)\n",
        "        for k in range(eval_iters):\n",
        "            x, y = getBatch(split)\n",
        "            _, loss = model(x, y)\n",
        "            losses[k] = loss.item()\n",
        "        out[split] = losses.mean() # Average the losses to make loss less noisy\n",
        "    model.train()\n",
        "    return out\n",
        "\n",
        "def printSampleFromModel(context, max_tokens):\n",
        "   print(decode(model.generate(idx=context, max_tokens=max_tokens)[0].tolist()))\n"
      ]
    },
    {
      "cell_type": "code",
      "execution_count": 15,
      "id": "923433d2-8295-4192-8a09-ca04b4ab6da6",
      "metadata": {
        "colab": {
          "base_uri": "https://localhost:8080/"
        },
        "id": "923433d2-8295-4192-8a09-ca04b4ab6da6",
        "outputId": "6ba31ed1-47a8-4206-fd50-1599b2d10a3e"
      },
      "outputs": [
        {
          "output_type": "stream",
          "name": "stdout",
          "text": [
            "step 0, train loss: 4.5294, val loss: 4.5343\n",
            "step 500, train loss: 1.9577, val loss: 2.0463\n",
            "step 1000, train loss: 1.5783, val loss: 1.7529\n",
            "step 1500, train loss: 1.4338, val loss: 1.6310\n",
            "step 2000, train loss: 1.3416, val loss: 1.5665\n",
            "step 2500, train loss: 1.2795, val loss: 1.5378\n",
            "step 3000, train loss: 1.2298, val loss: 1.5081\n",
            "step 3500, train loss: 1.1846, val loss: 1.4976\n",
            "step 4000, train loss: 1.1442, val loss: 1.4887\n",
            "step 4500, train loss: 1.1083, val loss: 1.4887\n"
          ]
        }
      ],
      "source": [
        "m = TransformerModel()\n",
        "model = m.to(device)\n",
        "\n",
        "# Create a pytorch optimizer\n",
        "optimizer = torch.optim.AdamW(model.parameters(), lr=learning_rate)\n",
        "for steps in range(max_iters):\n",
        "\n",
        "    if(steps % eval_interval == 0):\n",
        "        losses = estimate_loss()\n",
        "        print(f'step {steps}, train loss: {losses[\"train\"]:.4f}, val loss: {losses[\"val\"]:.4f}')\n",
        "\n",
        "    # sample data\n",
        "    xb, yb = getBatch('train')\n",
        "\n",
        "    # Evaluate the loss\n",
        "    logits, loss = model(xb, yb)\n",
        "    optimizer.zero_grad(set_to_none=True)\n",
        "    loss.backward()\n",
        "    optimizer.step()\n",
        "\n",
        "now = datetime.today().strftime('%Y-%m-%d %H:%M:%S')\n",
        "torch.save(model, f'/content/drive/My Drive/ml/models/model-v3-{now}.pth')"
      ]
    },
    {
      "cell_type": "code",
      "source": [
        "context = torch.zeros((1,1), dtype=torch.long, device=device)\n",
        "printSampleFromModel(context, 500)"
      ],
      "metadata": {
        "colab": {
          "base_uri": "https://localhost:8080/"
        },
        "id": "C-pAad1kOfU0",
        "outputId": "ee2f0b93-c709-4f53-ecee-b16e4e27a90d"
      },
      "id": "C-pAad1kOfU0",
      "execution_count": 16,
      "outputs": [
        {
          "output_type": "stream",
          "name": "stdout",
          "text": [
            "\n",
            "Your work.\n",
            "\n",
            "GLOUCESTER:\n",
            "Messenger, too, merely.\n",
            "\n",
            "BICKINGHAM:\n",
            "Who's that I boy? 'll have a force to thee in\n",
            "the hour, no more honour. By a word fellow!\n",
            "\n",
            "BUCKINGHAM:\n",
            "Tush!\n",
            "\n",
            "QUEEN:\n",
            "O, whom, masters: I heard your grace hither;\n",
            "Wars the suddenly vengefully sit in help?\n",
            "\n",
            "LADY GREY:\n",
            "And could his grief offence is there since\n",
            "Step holds tallough in tears and to meet the paints?\n",
            "That looks his speak; these fair dispersed themselves\n",
            "Even strew his bleb deep on his arms;\n",
            "Yinder from this secreat fitted unt\n"
          ]
        }
      ]
    },
    {
      "cell_type": "code",
      "source": [
        "max_tokens = 10000\n",
        "output_text = decode(model.generate(idx=context, max_tokens=max_tokens)[0].tolist())\n",
        "\n",
        "with open('/content/drive/My Drive/ml/data/shakespeare-10k.txt', 'w', encoding='utf-8') as f:\n",
        "    text = f.write(output_text)"
      ],
      "metadata": {
        "id": "nvOxhflxOlOs"
      },
      "id": "nvOxhflxOlOs",
      "execution_count": 18,
      "outputs": []
    },
    {
      "cell_type": "code",
      "source": [],
      "metadata": {
        "id": "IZlGNIrmPShO"
      },
      "id": "IZlGNIrmPShO",
      "execution_count": null,
      "outputs": []
    }
  ],
  "metadata": {
    "kernelspec": {
      "display_name": "Python 3",
      "name": "python3"
    },
    "language_info": {
      "codemirror_mode": {
        "name": "ipython",
        "version": 3
      },
      "file_extension": ".py",
      "mimetype": "text/x-python",
      "name": "python",
      "nbconvert_exporter": "python",
      "pygments_lexer": "ipython3",
      "version": "3.12.2"
    },
    "colab": {
      "provenance": [],
      "gpuType": "T4"
    },
    "accelerator": "GPU"
  },
  "nbformat": 4,
  "nbformat_minor": 5
}